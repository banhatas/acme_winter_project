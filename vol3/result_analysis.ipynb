{
 "cells": [
  {
   "cell_type": "code",
   "execution_count": 119,
   "metadata": {},
   "outputs": [],
   "source": [
    "import pickle\n",
    "import pandas as pd\n",
    "import numpy as np\n",
    "\n",
    "from hmmlearn import hmm\n",
    "from gensim.models import Word2Vec"
   ]
  },
  {
   "cell_type": "markdown",
   "metadata": {},
   "source": [
    "# Load the Cleaned Data"
   ]
  },
  {
   "cell_type": "code",
   "execution_count": 120,
   "metadata": {},
   "outputs": [
    {
     "data": {
      "text/html": [
       "<div>\n",
       "<style scoped>\n",
       "    .dataframe tbody tr th:only-of-type {\n",
       "        vertical-align: middle;\n",
       "    }\n",
       "\n",
       "    .dataframe tbody tr th {\n",
       "        vertical-align: top;\n",
       "    }\n",
       "\n",
       "    .dataframe thead th {\n",
       "        text-align: right;\n",
       "    }\n",
       "</style>\n",
       "<table border=\"1\" class=\"dataframe\">\n",
       "  <thead>\n",
       "    <tr style=\"text-align: right;\">\n",
       "      <th></th>\n",
       "      <th>text</th>\n",
       "      <th>target</th>\n",
       "    </tr>\n",
       "  </thead>\n",
       "  <tbody>\n",
       "    <tr>\n",
       "      <th>244708</th>\n",
       "      <td>[2, 4, 5, 4, 3, 5, 4, 5, 1]</td>\n",
       "      <td>0</td>\n",
       "    </tr>\n",
       "    <tr>\n",
       "      <th>1476105</th>\n",
       "      <td>[2, 3, 4, 5, 5]</td>\n",
       "      <td>4</td>\n",
       "    </tr>\n",
       "    <tr>\n",
       "      <th>796772</th>\n",
       "      <td>[0, 0]</td>\n",
       "      <td>0</td>\n",
       "    </tr>\n",
       "    <tr>\n",
       "      <th>1137601</th>\n",
       "      <td>[3, 1, 1, 3, 5, 1, 7, 1]</td>\n",
       "      <td>4</td>\n",
       "    </tr>\n",
       "    <tr>\n",
       "      <th>1068392</th>\n",
       "      <td>[3, 9, 5, 8, 5, 3, 5, 5, 5, 3, 4, 4, 4]</td>\n",
       "      <td>4</td>\n",
       "    </tr>\n",
       "  </tbody>\n",
       "</table>\n",
       "</div>"
      ],
      "text/plain": [
       "                                            text  target\n",
       "244708               [2, 4, 5, 4, 3, 5, 4, 5, 1]       0\n",
       "1476105                          [2, 3, 4, 5, 5]       4\n",
       "796772                                    [0, 0]       0\n",
       "1137601                 [3, 1, 1, 3, 5, 1, 7, 1]       4\n",
       "1068392  [3, 9, 5, 8, 5, 3, 5, 5, 5, 3, 4, 4, 4]       4"
      ]
     },
     "execution_count": 120,
     "metadata": {},
     "output_type": "execute_result"
    }
   ],
   "source": [
    "with open('twitter.pkl', 'rb') as f:\n",
    "    df = pickle.load(f)['data']\n",
    "df.head()"
   ]
  },
  {
   "cell_type": "markdown",
   "metadata": {},
   "source": [
    "# Init and Train Model"
   ]
  },
  {
   "cell_type": "code",
   "execution_count": 121,
   "metadata": {},
   "outputs": [],
   "source": [
    "def flatten_list(X):\n",
    "    # make the data a 1d array\n",
    "    sequences = []\n",
    "    seq_lens = []\n",
    "    for seq in X:\n",
    "        sequences.extend(seq)\n",
    "        seq_lens.append(len(seq))\n",
    "\n",
    "    # reshape\n",
    "    sequences = np.reshape(sequences, (-1, 1))\n",
    "\n",
    "    return sequences, seq_lens"
   ]
  },
  {
   "cell_type": "code",
   "execution_count": 122,
   "metadata": {},
   "outputs": [
    {
     "data": {
      "text/html": [
       "<style>#sk-container-id-12 {color: black;}#sk-container-id-12 pre{padding: 0;}#sk-container-id-12 div.sk-toggleable {background-color: white;}#sk-container-id-12 label.sk-toggleable__label {cursor: pointer;display: block;width: 100%;margin-bottom: 0;padding: 0.3em;box-sizing: border-box;text-align: center;}#sk-container-id-12 label.sk-toggleable__label-arrow:before {content: \"▸\";float: left;margin-right: 0.25em;color: #696969;}#sk-container-id-12 label.sk-toggleable__label-arrow:hover:before {color: black;}#sk-container-id-12 div.sk-estimator:hover label.sk-toggleable__label-arrow:before {color: black;}#sk-container-id-12 div.sk-toggleable__content {max-height: 0;max-width: 0;overflow: hidden;text-align: left;background-color: #f0f8ff;}#sk-container-id-12 div.sk-toggleable__content pre {margin: 0.2em;color: black;border-radius: 0.25em;background-color: #f0f8ff;}#sk-container-id-12 input.sk-toggleable__control:checked~div.sk-toggleable__content {max-height: 200px;max-width: 100%;overflow: auto;}#sk-container-id-12 input.sk-toggleable__control:checked~label.sk-toggleable__label-arrow:before {content: \"▾\";}#sk-container-id-12 div.sk-estimator input.sk-toggleable__control:checked~label.sk-toggleable__label {background-color: #d4ebff;}#sk-container-id-12 div.sk-label input.sk-toggleable__control:checked~label.sk-toggleable__label {background-color: #d4ebff;}#sk-container-id-12 input.sk-hidden--visually {border: 0;clip: rect(1px 1px 1px 1px);clip: rect(1px, 1px, 1px, 1px);height: 1px;margin: -1px;overflow: hidden;padding: 0;position: absolute;width: 1px;}#sk-container-id-12 div.sk-estimator {font-family: monospace;background-color: #f0f8ff;border: 1px dotted black;border-radius: 0.25em;box-sizing: border-box;margin-bottom: 0.5em;}#sk-container-id-12 div.sk-estimator:hover {background-color: #d4ebff;}#sk-container-id-12 div.sk-parallel-item::after {content: \"\";width: 100%;border-bottom: 1px solid gray;flex-grow: 1;}#sk-container-id-12 div.sk-label:hover label.sk-toggleable__label {background-color: #d4ebff;}#sk-container-id-12 div.sk-serial::before {content: \"\";position: absolute;border-left: 1px solid gray;box-sizing: border-box;top: 0;bottom: 0;left: 50%;z-index: 0;}#sk-container-id-12 div.sk-serial {display: flex;flex-direction: column;align-items: center;background-color: white;padding-right: 0.2em;padding-left: 0.2em;position: relative;}#sk-container-id-12 div.sk-item {position: relative;z-index: 1;}#sk-container-id-12 div.sk-parallel {display: flex;align-items: stretch;justify-content: center;background-color: white;position: relative;}#sk-container-id-12 div.sk-item::before, #sk-container-id-12 div.sk-parallel-item::before {content: \"\";position: absolute;border-left: 1px solid gray;box-sizing: border-box;top: 0;bottom: 0;left: 50%;z-index: -1;}#sk-container-id-12 div.sk-parallel-item {display: flex;flex-direction: column;z-index: 1;position: relative;background-color: white;}#sk-container-id-12 div.sk-parallel-item:first-child::after {align-self: flex-end;width: 50%;}#sk-container-id-12 div.sk-parallel-item:last-child::after {align-self: flex-start;width: 50%;}#sk-container-id-12 div.sk-parallel-item:only-child::after {width: 0;}#sk-container-id-12 div.sk-dashed-wrapped {border: 1px dashed gray;margin: 0 0.4em 0.5em 0.4em;box-sizing: border-box;padding-bottom: 0.4em;background-color: white;}#sk-container-id-12 div.sk-label label {font-family: monospace;font-weight: bold;display: inline-block;line-height: 1.2em;}#sk-container-id-12 div.sk-label-container {text-align: center;}#sk-container-id-12 div.sk-container {/* jupyter's `normalize.less` sets `[hidden] { display: none; }` but bootstrap.min.css set `[hidden] { display: none !important; }` so we also need the `!important` here to be able to override the default hidden behavior on the sphinx rendered scikit-learn.org. See: https://github.com/scikit-learn/scikit-learn/issues/21755 */display: inline-block !important;position: relative;}#sk-container-id-12 div.sk-text-repr-fallback {display: none;}</style><div id=\"sk-container-id-12\" class=\"sk-top-container\"><div class=\"sk-text-repr-fallback\"><pre>CategoricalHMM(n_components=2, n_features=10,\n",
       "               random_state=RandomState(MT19937) at 0x7240BC310D40)</pre><b>In a Jupyter environment, please rerun this cell to show the HTML representation or trust the notebook. <br />On GitHub, the HTML representation is unable to render, please try loading this page with nbviewer.org.</b></div><div class=\"sk-container\" hidden><div class=\"sk-item\"><div class=\"sk-estimator sk-toggleable\"><input class=\"sk-toggleable__control sk-hidden--visually\" id=\"sk-estimator-id-12\" type=\"checkbox\" checked><label for=\"sk-estimator-id-12\" class=\"sk-toggleable__label sk-toggleable__label-arrow\">CategoricalHMM</label><div class=\"sk-toggleable__content\"><pre>CategoricalHMM(n_components=2, n_features=10,\n",
       "               random_state=RandomState(MT19937) at 0x7240BC310D40)</pre></div></div></div></div></div>"
      ],
      "text/plain": [
       "CategoricalHMM(n_components=2, n_features=10,\n",
       "               random_state=RandomState(MT19937) at 0x7240BC310D40)"
      ]
     },
     "execution_count": 122,
     "metadata": {},
     "output_type": "execute_result"
    }
   ],
   "source": [
    "X, y = df['text'].tolist(), np.array(df['target'])\n",
    "flat_X, lens = flatten_list(X)\n",
    "\n",
    "model = hmm.CategoricalHMM(n_components = 2)\n",
    "model.fit(flat_X, lens) "
   ]
  },
  {
   "cell_type": "code",
   "execution_count": 123,
   "metadata": {},
   "outputs": [
    {
     "name": "stdout",
     "output_type": "stream",
     "text": [
      "[[1.10644108e-01 5.85038858e-02]\n",
      " [2.21979531e-01 9.46773266e-02]\n",
      " [1.95115686e-02 5.26388605e-01]\n",
      " [1.12787107e-01 6.25796974e-02]\n",
      " [1.54143443e-01 9.85814020e-02]\n",
      " [1.42073734e-01 5.83575786e-02]\n",
      " [2.73075007e-03 8.67286059e-17]\n",
      " [9.52739430e-02 3.70448936e-02]\n",
      " [5.98598437e-02 2.21565048e-02]\n",
      " [8.09959708e-02 4.17101066e-02]]\n",
      "Cluster 1 - State 0 - Diff 0.127302\n",
      "Cluster 2 - State 1 - Diff 0.506877\n"
     ]
    }
   ],
   "source": [
    "B = model.emissionprob_.T\n",
    "print(B)\n",
    "\n",
    "for i in range(10):\n",
    "    cluster = i\n",
    "    state = np.argmax(B[i])\n",
    "    diff = np.abs(B[i][0] - B[i][1])\n",
    "    if diff > .1:\n",
    "        print(f\"Cluster {i} - State {state} - Diff {diff:4f}\")\n"
   ]
  },
  {
   "cell_type": "code",
   "execution_count": 124,
   "metadata": {},
   "outputs": [],
   "source": [
    "# load w2v model\n",
    "w2vmodel = Word2Vec.load('twitter_w2v.model')"
   ]
  },
  {
   "cell_type": "code",
   "execution_count": 129,
   "metadata": {},
   "outputs": [
    {
     "name": "stdout",
     "output_type": "stream",
     "text": [
      "3312\n",
      "[('acmeuser', 1.0), ('acmeurl', 0.9998157620429993), ('lol', 0.9998036623001099), ('got', 0.9998028874397278), ('ive', 0.9997963309288025)]\n",
      "[('im', 1.0), ('time', 0.9998244047164917), ('got', 0.9998231530189514), ('day', 0.9998115301132202), ('new', 0.9998112916946411)]\n",
      "[('acmeuser', 1.0), ('acmeurl', 0.9998157620429993), ('lol', 0.9998036623001099), ('got', 0.9998028874397278), ('ive', 0.9997963309288025)]\n",
      "[('im', 1.0), ('time', 0.9998244047164917), ('got', 0.9998231530189514), ('day', 0.9998115301132202), ('new', 0.9998112916946411)]\n",
      "[('acmeuser', 1.0), ('acmeurl', 0.9998157620429993), ('lol', 0.9998036623001099), ('got', 0.9998028874397278), ('ive', 0.9997963309288025)]\n",
      "[('acmeuser', 1.0), ('acmeurl', 0.9998157620429993), ('lol', 0.9998036623001099), ('got', 0.9998028874397278), ('ive', 0.9997963309288025)]\n",
      "[('acmeuser', 1.0), ('acmeurl', 0.9998157620429993), ('lol', 0.9998036623001099), ('got', 0.9998028874397278), ('ive', 0.9997963309288025)]\n"
     ]
    }
   ],
   "source": [
    "with open(\"twitter_cluster.pkl\", 'rb') as f:\n",
    "    dat = pickle.load(f)\n",
    "\n",
    "vecs = dat[0]\n",
    "labels = dat[1]\n",
    "\n",
    "c7 = vecs[labels == 2]\n",
    "print(len(c7))\n",
    "\n",
    "i = 0\n",
    "for v in c7:\n",
    "    similar = w2vmodel.wv.most_similar(v, topn=5)\n",
    "    if i % 500 == 0:\n",
    "        print(similar)\n",
    "    i += 1"
   ]
  },
  {
   "cell_type": "markdown",
   "metadata": {},
   "source": [
    "# Yelp Data"
   ]
  },
  {
   "cell_type": "code",
   "execution_count": 55,
   "metadata": {},
   "outputs": [],
   "source": [
    "# load stuff\n",
    "with open('cluster_centers.pkl', 'rb') as f:\n",
    "    dat = pickle.load(f)\n",
    "\n",
    "vecs = dat[0]\n",
    "labels = dat[1]\n",
    "\n",
    "model = Word2Vec.load('yelp_w2v.model')\n"
   ]
  },
  {
   "cell_type": "code",
   "execution_count": 59,
   "metadata": {},
   "outputs": [
    {
     "data": {
      "text/html": [
       "<div>\n",
       "<style scoped>\n",
       "    .dataframe tbody tr th:only-of-type {\n",
       "        vertical-align: middle;\n",
       "    }\n",
       "\n",
       "    .dataframe tbody tr th {\n",
       "        vertical-align: top;\n",
       "    }\n",
       "\n",
       "    .dataframe thead th {\n",
       "        text-align: right;\n",
       "    }\n",
       "</style>\n",
       "<table border=\"1\" class=\"dataframe\">\n",
       "  <thead>\n",
       "    <tr style=\"text-align: right;\">\n",
       "      <th></th>\n",
       "      <th>text</th>\n",
       "      <th>target</th>\n",
       "    </tr>\n",
       "  </thead>\n",
       "  <tbody>\n",
       "    <tr>\n",
       "      <th>36346</th>\n",
       "      <td>[3, 0, 2, 2, 2, 2, 4, 2, 6, 7, 4, 1, 1, 7, 1, ...</td>\n",
       "      <td>4.0</td>\n",
       "    </tr>\n",
       "    <tr>\n",
       "      <th>1135674</th>\n",
       "      <td>[4, 4, 6, 9, 1, 2, 4, 4, 6, 0, 2, 2, 9, 9, 1, ...</td>\n",
       "      <td>1.0</td>\n",
       "    </tr>\n",
       "    <tr>\n",
       "      <th>756105</th>\n",
       "      <td>[7, 6, 9, 9, 4, 3, 4, 6, 9, 4, 4, 9, 0, 4, 1, ...</td>\n",
       "      <td>5.0</td>\n",
       "    </tr>\n",
       "    <tr>\n",
       "      <th>910468</th>\n",
       "      <td>[6, 8, 1, 0, 4, 0, 1, 7, 4, 4, 2, 4, 9, 9, 0, ...</td>\n",
       "      <td>5.0</td>\n",
       "    </tr>\n",
       "    <tr>\n",
       "      <th>442520</th>\n",
       "      <td>[2, 4, 9, 4, 4, 0, 0, 5, 2, 1, 9, 9, 1, 4, 1, ...</td>\n",
       "      <td>5.0</td>\n",
       "    </tr>\n",
       "  </tbody>\n",
       "</table>\n",
       "</div>"
      ],
      "text/plain": [
       "                                                      text  target\n",
       "36346    [3, 0, 2, 2, 2, 2, 4, 2, 6, 7, 4, 1, 1, 7, 1, ...     4.0\n",
       "1135674  [4, 4, 6, 9, 1, 2, 4, 4, 6, 0, 2, 2, 9, 9, 1, ...     1.0\n",
       "756105   [7, 6, 9, 9, 4, 3, 4, 6, 9, 4, 4, 9, 0, 4, 1, ...     5.0\n",
       "910468   [6, 8, 1, 0, 4, 0, 1, 7, 4, 4, 2, 4, 9, 9, 0, ...     5.0\n",
       "442520   [2, 4, 9, 4, 4, 0, 0, 5, 2, 1, 9, 9, 1, 4, 1, ...     5.0"
      ]
     },
     "execution_count": 59,
     "metadata": {},
     "output_type": "execute_result"
    }
   ],
   "source": [
    "# train hmm\n",
    "with open(\"yelp.pkl\", \"rb\") as f:\n",
    "    df = pd.DataFrame(pickle.load(f)['data'])\n",
    "\n",
    "df.head()"
   ]
  },
  {
   "cell_type": "code",
   "execution_count": 61,
   "metadata": {},
   "outputs": [
    {
     "data": {
      "text/html": [
       "<style>#sk-container-id-5 {color: black;}#sk-container-id-5 pre{padding: 0;}#sk-container-id-5 div.sk-toggleable {background-color: white;}#sk-container-id-5 label.sk-toggleable__label {cursor: pointer;display: block;width: 100%;margin-bottom: 0;padding: 0.3em;box-sizing: border-box;text-align: center;}#sk-container-id-5 label.sk-toggleable__label-arrow:before {content: \"▸\";float: left;margin-right: 0.25em;color: #696969;}#sk-container-id-5 label.sk-toggleable__label-arrow:hover:before {color: black;}#sk-container-id-5 div.sk-estimator:hover label.sk-toggleable__label-arrow:before {color: black;}#sk-container-id-5 div.sk-toggleable__content {max-height: 0;max-width: 0;overflow: hidden;text-align: left;background-color: #f0f8ff;}#sk-container-id-5 div.sk-toggleable__content pre {margin: 0.2em;color: black;border-radius: 0.25em;background-color: #f0f8ff;}#sk-container-id-5 input.sk-toggleable__control:checked~div.sk-toggleable__content {max-height: 200px;max-width: 100%;overflow: auto;}#sk-container-id-5 input.sk-toggleable__control:checked~label.sk-toggleable__label-arrow:before {content: \"▾\";}#sk-container-id-5 div.sk-estimator input.sk-toggleable__control:checked~label.sk-toggleable__label {background-color: #d4ebff;}#sk-container-id-5 div.sk-label input.sk-toggleable__control:checked~label.sk-toggleable__label {background-color: #d4ebff;}#sk-container-id-5 input.sk-hidden--visually {border: 0;clip: rect(1px 1px 1px 1px);clip: rect(1px, 1px, 1px, 1px);height: 1px;margin: -1px;overflow: hidden;padding: 0;position: absolute;width: 1px;}#sk-container-id-5 div.sk-estimator {font-family: monospace;background-color: #f0f8ff;border: 1px dotted black;border-radius: 0.25em;box-sizing: border-box;margin-bottom: 0.5em;}#sk-container-id-5 div.sk-estimator:hover {background-color: #d4ebff;}#sk-container-id-5 div.sk-parallel-item::after {content: \"\";width: 100%;border-bottom: 1px solid gray;flex-grow: 1;}#sk-container-id-5 div.sk-label:hover label.sk-toggleable__label {background-color: #d4ebff;}#sk-container-id-5 div.sk-serial::before {content: \"\";position: absolute;border-left: 1px solid gray;box-sizing: border-box;top: 0;bottom: 0;left: 50%;z-index: 0;}#sk-container-id-5 div.sk-serial {display: flex;flex-direction: column;align-items: center;background-color: white;padding-right: 0.2em;padding-left: 0.2em;position: relative;}#sk-container-id-5 div.sk-item {position: relative;z-index: 1;}#sk-container-id-5 div.sk-parallel {display: flex;align-items: stretch;justify-content: center;background-color: white;position: relative;}#sk-container-id-5 div.sk-item::before, #sk-container-id-5 div.sk-parallel-item::before {content: \"\";position: absolute;border-left: 1px solid gray;box-sizing: border-box;top: 0;bottom: 0;left: 50%;z-index: -1;}#sk-container-id-5 div.sk-parallel-item {display: flex;flex-direction: column;z-index: 1;position: relative;background-color: white;}#sk-container-id-5 div.sk-parallel-item:first-child::after {align-self: flex-end;width: 50%;}#sk-container-id-5 div.sk-parallel-item:last-child::after {align-self: flex-start;width: 50%;}#sk-container-id-5 div.sk-parallel-item:only-child::after {width: 0;}#sk-container-id-5 div.sk-dashed-wrapped {border: 1px dashed gray;margin: 0 0.4em 0.5em 0.4em;box-sizing: border-box;padding-bottom: 0.4em;background-color: white;}#sk-container-id-5 div.sk-label label {font-family: monospace;font-weight: bold;display: inline-block;line-height: 1.2em;}#sk-container-id-5 div.sk-label-container {text-align: center;}#sk-container-id-5 div.sk-container {/* jupyter's `normalize.less` sets `[hidden] { display: none; }` but bootstrap.min.css set `[hidden] { display: none !important; }` so we also need the `!important` here to be able to override the default hidden behavior on the sphinx rendered scikit-learn.org. See: https://github.com/scikit-learn/scikit-learn/issues/21755 */display: inline-block !important;position: relative;}#sk-container-id-5 div.sk-text-repr-fallback {display: none;}</style><div id=\"sk-container-id-5\" class=\"sk-top-container\"><div class=\"sk-text-repr-fallback\"><pre>CategoricalHMM(n_components=5, n_features=10,\n",
       "               random_state=RandomState(MT19937) at 0x7240BC310D40)</pre><b>In a Jupyter environment, please rerun this cell to show the HTML representation or trust the notebook. <br />On GitHub, the HTML representation is unable to render, please try loading this page with nbviewer.org.</b></div><div class=\"sk-container\" hidden><div class=\"sk-item\"><div class=\"sk-estimator sk-toggleable\"><input class=\"sk-toggleable__control sk-hidden--visually\" id=\"sk-estimator-id-5\" type=\"checkbox\" checked><label for=\"sk-estimator-id-5\" class=\"sk-toggleable__label sk-toggleable__label-arrow\">CategoricalHMM</label><div class=\"sk-toggleable__content\"><pre>CategoricalHMM(n_components=5, n_features=10,\n",
       "               random_state=RandomState(MT19937) at 0x7240BC310D40)</pre></div></div></div></div></div>"
      ],
      "text/plain": [
       "CategoricalHMM(n_components=5, n_features=10,\n",
       "               random_state=RandomState(MT19937) at 0x7240BC310D40)"
      ]
     },
     "execution_count": 61,
     "metadata": {},
     "output_type": "execute_result"
    }
   ],
   "source": [
    "X, y = df['text'].tolist(), np.array(df['target'])\n",
    "flat_X, lens = flatten_list(X)\n",
    "\n",
    "model = hmm.CategoricalHMM(n_components = 5)\n",
    "model.fit(flat_X, lens) "
   ]
  },
  {
   "cell_type": "code",
   "execution_count": 62,
   "metadata": {},
   "outputs": [
    {
     "name": "stdout",
     "output_type": "stream",
     "text": [
      "[[0.14173786 0.04679124 0.03567238 0.02482341 0.0862748 ]\n",
      " [0.15937268 0.224374   0.13724712 0.11391942 0.02900571]\n",
      " [0.10784002 0.07583219 0.18095975 0.21190909 0.11823229]\n",
      " [0.05712658 0.09560933 0.00263079 0.02062601 0.06453086]\n",
      " [0.11085953 0.12800155 0.12595417 0.29301536 0.16158681]\n",
      " [0.05264739 0.01236799 0.03915321 0.04511243 0.0403932 ]\n",
      " [0.01074384 0.02193552 0.04944793 0.11715914 0.03155407]\n",
      " [0.12522733 0.20191131 0.04936728 0.04918314 0.10352335]\n",
      " [0.04076411 0.03786219 0.01757019 0.04962286 0.03348215]\n",
      " [0.19368067 0.15531468 0.36199718 0.07462914 0.33141676]]\n"
     ]
    }
   ],
   "source": [
    "B = model.emissionprob_.T\n",
    "print(B)\n",
    "\n",
    "# for i in range(10):\n",
    "#     cluster = i\n",
    "#     state = np.argmax(B[i])\n",
    "#     diff = np.abs(B[i][0] - B[i][1])\n",
    "#     if diff > .1:\n",
    "#         print(f\"Cluster {i} - State {state} - Diff {diff:4f}\")\n"
   ]
  }
 ],
 "metadata": {
  "kernelspec": {
   "display_name": "acme",
   "language": "python",
   "name": "python3"
  },
  "language_info": {
   "codemirror_mode": {
    "name": "ipython",
    "version": 3
   },
   "file_extension": ".py",
   "mimetype": "text/x-python",
   "name": "python",
   "nbconvert_exporter": "python",
   "pygments_lexer": "ipython3",
   "version": "3.12.1"
  }
 },
 "nbformat": 4,
 "nbformat_minor": 2
}
