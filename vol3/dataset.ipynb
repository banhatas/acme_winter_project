{
 "cells": [
  {
   "cell_type": "markdown",
   "metadata": {},
   "source": [
    "# Data Cleaning and Description\n",
    "Tyler Christensen, William Lewis, Addison Powell, Jared Smith\n",
    "\n",
    "## Dataset Descriptions\n",
    "For our project, we intend to explore a few different branches. Each of these require their own dataset due to the nature of the project, though the methodology will remain largely the same. Our two main branches of exploration are:\n",
    "- Sentiment Analysis of Casual Texts\n",
    "    - For this we will use a dataset of over 1.6 million tweets, each labeled with a class related to its sentiment (negative, neutral, or positive).\n",
    "- Sentiment Analysis of Reviews\n",
    "    - For this we will use 2 datasets. The first is a set of yelp reviews from <a href=\"https://www.yelp.com/dataset/documentation/main\">this link</a>. There are 1,250,000 reviews (we took a subset of the larger dataset of 6 million reviews out of concerns for memory), each labeled with a score out of 5 stars. The second is a set of 50,000 IMDb Movie reviews, each labeled with either a positive or negative sentiment.\n",
    "\n",
    "## Validation Set\n",
    "Before we began to look at the data in full, we sealed off 20% of each set to save for a final analysis. This was split via files, and as such we will not be able to access the validation sets unless we specifically load those files in our code. The split was chosen randomly and immediately saved into a separate file. We will reopen these and check our results towards the end of our project.\n",
    "\n",
    "## Data Access\n",
    "All the data can be found in <a href=\"https://drive.google.com/drive/folders/1Hp54gH3TQ93ELuzkHJI76C1nXsSI5CpE?usp=sharing\">this Google Drive folder.</a>"
   ]
  },
  {
   "cell_type": "code",
   "execution_count": 118,
   "metadata": {},
   "outputs": [
    {
     "name": "stderr",
     "output_type": "stream",
     "text": [
      "[nltk_data] Downloading package stopwords to /home/tylerc/nltk_data...\n",
      "[nltk_data]   Package stopwords is already up-to-date!\n"
     ]
    },
    {
     "data": {
      "text/plain": [
       "True"
      ]
     },
     "execution_count": 118,
     "metadata": {},
     "output_type": "execute_result"
    }
   ],
   "source": [
    "import pandas as pd\n",
    "import numpy as np\n",
    "import matplotlib.pyplot as plt\n",
    "from io import StringIO\n",
    "from html.parser import HTMLParser\n",
    "from tqdm.notebook import tqdm_notebook\n",
    "from tqdm import tqdm\n",
    "import pickle\n",
    "import string\n",
    "import re\n",
    "from nltk.stem import PorterStemmer\n",
    "from nltk.corpus import stopwords\n",
    "from nltk import download\n",
    "from itertools import compress\n",
    "\n",
    "tqdm.pandas()\n",
    "download('stopwords')"
   ]
  },
  {
   "cell_type": "markdown",
   "metadata": {},
   "source": [
    "## Importing Data"
   ]
  },
  {
   "cell_type": "code",
   "execution_count": 119,
   "metadata": {},
   "outputs": [
    {
     "data": {
      "text/html": [
       "<div>\n",
       "<style scoped>\n",
       "    .dataframe tbody tr th:only-of-type {\n",
       "        vertical-align: middle;\n",
       "    }\n",
       "\n",
       "    .dataframe tbody tr th {\n",
       "        vertical-align: top;\n",
       "    }\n",
       "\n",
       "    .dataframe thead th {\n",
       "        text-align: right;\n",
       "    }\n",
       "</style>\n",
       "<table border=\"1\" class=\"dataframe\">\n",
       "  <thead>\n",
       "    <tr style=\"text-align: right;\">\n",
       "      <th></th>\n",
       "      <th>target</th>\n",
       "      <th>id</th>\n",
       "      <th>date</th>\n",
       "      <th>flag</th>\n",
       "      <th>user</th>\n",
       "      <th>text</th>\n",
       "    </tr>\n",
       "  </thead>\n",
       "  <tbody>\n",
       "    <tr>\n",
       "      <th>1</th>\n",
       "      <td>0</td>\n",
       "      <td>1467810672</td>\n",
       "      <td>Mon Apr 06 22:19:49 PDT 2009</td>\n",
       "      <td>NO_QUERY</td>\n",
       "      <td>scotthamilton</td>\n",
       "      <td>is upset that he can't update his Facebook by ...</td>\n",
       "    </tr>\n",
       "    <tr>\n",
       "      <th>2</th>\n",
       "      <td>0</td>\n",
       "      <td>1467810917</td>\n",
       "      <td>Mon Apr 06 22:19:53 PDT 2009</td>\n",
       "      <td>NO_QUERY</td>\n",
       "      <td>mattycus</td>\n",
       "      <td>@Kenichan I dived many times for the ball. Man...</td>\n",
       "    </tr>\n",
       "    <tr>\n",
       "      <th>3</th>\n",
       "      <td>0</td>\n",
       "      <td>1467811184</td>\n",
       "      <td>Mon Apr 06 22:19:57 PDT 2009</td>\n",
       "      <td>NO_QUERY</td>\n",
       "      <td>ElleCTF</td>\n",
       "      <td>my whole body feels itchy and like its on fire</td>\n",
       "    </tr>\n",
       "    <tr>\n",
       "      <th>4</th>\n",
       "      <td>0</td>\n",
       "      <td>1467811193</td>\n",
       "      <td>Mon Apr 06 22:19:57 PDT 2009</td>\n",
       "      <td>NO_QUERY</td>\n",
       "      <td>Karoli</td>\n",
       "      <td>@nationwideclass no, it's not behaving at all....</td>\n",
       "    </tr>\n",
       "    <tr>\n",
       "      <th>5</th>\n",
       "      <td>0</td>\n",
       "      <td>1467811372</td>\n",
       "      <td>Mon Apr 06 22:20:00 PDT 2009</td>\n",
       "      <td>NO_QUERY</td>\n",
       "      <td>joy_wolf</td>\n",
       "      <td>@Kwesidei not the whole crew</td>\n",
       "    </tr>\n",
       "  </tbody>\n",
       "</table>\n",
       "</div>"
      ],
      "text/plain": [
       "   target          id                          date      flag           user  \\\n",
       "1       0  1467810672  Mon Apr 06 22:19:49 PDT 2009  NO_QUERY  scotthamilton   \n",
       "2       0  1467810917  Mon Apr 06 22:19:53 PDT 2009  NO_QUERY       mattycus   \n",
       "3       0  1467811184  Mon Apr 06 22:19:57 PDT 2009  NO_QUERY        ElleCTF   \n",
       "4       0  1467811193  Mon Apr 06 22:19:57 PDT 2009  NO_QUERY         Karoli   \n",
       "5       0  1467811372  Mon Apr 06 22:20:00 PDT 2009  NO_QUERY       joy_wolf   \n",
       "\n",
       "                                                text  \n",
       "1  is upset that he can't update his Facebook by ...  \n",
       "2  @Kenichan I dived many times for the ball. Man...  \n",
       "3    my whole body feels itchy and like its on fire   \n",
       "4  @nationwideclass no, it's not behaving at all....  \n",
       "5                      @Kwesidei not the whole crew   "
      ]
     },
     "execution_count": 119,
     "metadata": {},
     "output_type": "execute_result"
    }
   ],
   "source": [
    "# the directory that the data is stored in \n",
    "# don't store in git repo, please store it somewhere else on your computer\n",
    "# data_dir = '../../data/'\n",
    "data_dir = '/home/tylerc/dat/school/acme/'\n",
    "\n",
    "# load the datasets\n",
    "twitter_df = pd.read_csv(data_dir + \"twitter_data.csv\", index_col=0)\n",
    "twitter_df.head()"
   ]
  },
  {
   "cell_type": "code",
   "execution_count": 120,
   "metadata": {},
   "outputs": [
    {
     "data": {
      "text/html": [
       "<div>\n",
       "<style scoped>\n",
       "    .dataframe tbody tr th:only-of-type {\n",
       "        vertical-align: middle;\n",
       "    }\n",
       "\n",
       "    .dataframe tbody tr th {\n",
       "        vertical-align: top;\n",
       "    }\n",
       "\n",
       "    .dataframe thead th {\n",
       "        text-align: right;\n",
       "    }\n",
       "</style>\n",
       "<table border=\"1\" class=\"dataframe\">\n",
       "  <thead>\n",
       "    <tr style=\"text-align: right;\">\n",
       "      <th></th>\n",
       "      <th>review</th>\n",
       "      <th>sentiment</th>\n",
       "    </tr>\n",
       "  </thead>\n",
       "  <tbody>\n",
       "    <tr>\n",
       "      <th>0</th>\n",
       "      <td>One of the other reviewers has mentioned that ...</td>\n",
       "      <td>positive</td>\n",
       "    </tr>\n",
       "    <tr>\n",
       "      <th>1</th>\n",
       "      <td>A wonderful little production. &lt;br /&gt;&lt;br /&gt;The...</td>\n",
       "      <td>positive</td>\n",
       "    </tr>\n",
       "    <tr>\n",
       "      <th>2</th>\n",
       "      <td>I thought this was a wonderful way to spend ti...</td>\n",
       "      <td>positive</td>\n",
       "    </tr>\n",
       "    <tr>\n",
       "      <th>4</th>\n",
       "      <td>Petter Mattei's \"Love in the Time of Money\" is...</td>\n",
       "      <td>positive</td>\n",
       "    </tr>\n",
       "    <tr>\n",
       "      <th>5</th>\n",
       "      <td>Probably my all-time favorite movie, a story o...</td>\n",
       "      <td>positive</td>\n",
       "    </tr>\n",
       "  </tbody>\n",
       "</table>\n",
       "</div>"
      ],
      "text/plain": [
       "                                              review sentiment\n",
       "0  One of the other reviewers has mentioned that ...  positive\n",
       "1  A wonderful little production. <br /><br />The...  positive\n",
       "2  I thought this was a wonderful way to spend ti...  positive\n",
       "4  Petter Mattei's \"Love in the Time of Money\" is...  positive\n",
       "5  Probably my all-time favorite movie, a story o...  positive"
      ]
     },
     "execution_count": 120,
     "metadata": {},
     "output_type": "execute_result"
    }
   ],
   "source": [
    "imdb_df = pd.read_csv(data_dir + \"imdb_data.csv\", index_col=0)\n",
    "imdb_df.head()"
   ]
  },
  {
   "cell_type": "code",
   "execution_count": 121,
   "metadata": {},
   "outputs": [
    {
     "data": {
      "text/html": [
       "<div>\n",
       "<style scoped>\n",
       "    .dataframe tbody tr th:only-of-type {\n",
       "        vertical-align: middle;\n",
       "    }\n",
       "\n",
       "    .dataframe tbody tr th {\n",
       "        vertical-align: top;\n",
       "    }\n",
       "\n",
       "    .dataframe thead th {\n",
       "        text-align: right;\n",
       "    }\n",
       "</style>\n",
       "<table border=\"1\" class=\"dataframe\">\n",
       "  <thead>\n",
       "    <tr style=\"text-align: right;\">\n",
       "      <th></th>\n",
       "      <th>user_id</th>\n",
       "      <th>business_id</th>\n",
       "      <th>stars</th>\n",
       "      <th>useful</th>\n",
       "      <th>funny</th>\n",
       "      <th>cool</th>\n",
       "      <th>date</th>\n",
       "      <th>text</th>\n",
       "    </tr>\n",
       "  </thead>\n",
       "  <tbody>\n",
       "    <tr>\n",
       "      <th>477697</th>\n",
       "      <td>5sHSDjYnNkaia5lUec7rNw</td>\n",
       "      <td>ZSJeZPEoHXMdgMpRIMBpiQ</td>\n",
       "      <td>5.0</td>\n",
       "      <td>2</td>\n",
       "      <td>1</td>\n",
       "      <td>2</td>\n",
       "      <td>We have been visiting the Devon Horse Show for...</td>\n",
       "      <td>2019-05-30 14:18:56</td>\n",
       "    </tr>\n",
       "    <tr>\n",
       "      <th>757770</th>\n",
       "      <td>4dwF1g0wOZjwjxyQ8cRVoA</td>\n",
       "      <td>AjQGanUkM-SFa7MxwTfMRw</td>\n",
       "      <td>5.0</td>\n",
       "      <td>2</td>\n",
       "      <td>0</td>\n",
       "      <td>1</td>\n",
       "      <td>What an amazing, random Friday adventure. I re...</td>\n",
       "      <td>2019-06-21 23:14:42</td>\n",
       "    </tr>\n",
       "    <tr>\n",
       "      <th>1013355</th>\n",
       "      <td>NyPaks2v8GkcWVsCXctpKA</td>\n",
       "      <td>G8r_HHphWNWfRN0LgVwrFA</td>\n",
       "      <td>1.0</td>\n",
       "      <td>0</td>\n",
       "      <td>0</td>\n",
       "      <td>0</td>\n",
       "      <td>Last three items broke- they wouldn't return t...</td>\n",
       "      <td>2011-11-14 01:10:28</td>\n",
       "    </tr>\n",
       "    <tr>\n",
       "      <th>98618</th>\n",
       "      <td>gpzgC3AwKY7cLkMsdSNA3w</td>\n",
       "      <td>2kuhZOrWcLYe_XePccr4lA</td>\n",
       "      <td>4.0</td>\n",
       "      <td>0</td>\n",
       "      <td>0</td>\n",
       "      <td>0</td>\n",
       "      <td>Delicious. We got Chicago style. Nice place. O...</td>\n",
       "      <td>2018-03-19 00:28:12</td>\n",
       "    </tr>\n",
       "    <tr>\n",
       "      <th>446665</th>\n",
       "      <td>Iu1akOzyVihFr7oj9JnK1Q</td>\n",
       "      <td>dvNNkfCyAjOq1HHltSRXRA</td>\n",
       "      <td>5.0</td>\n",
       "      <td>0</td>\n",
       "      <td>0</td>\n",
       "      <td>0</td>\n",
       "      <td>Great experience, Roman is the best, he went b...</td>\n",
       "      <td>2016-04-15 17:24:36</td>\n",
       "    </tr>\n",
       "  </tbody>\n",
       "</table>\n",
       "</div>"
      ],
      "text/plain": [
       "                        user_id             business_id  stars  useful  funny  \\\n",
       "477697   5sHSDjYnNkaia5lUec7rNw  ZSJeZPEoHXMdgMpRIMBpiQ    5.0       2      1   \n",
       "757770   4dwF1g0wOZjwjxyQ8cRVoA  AjQGanUkM-SFa7MxwTfMRw    5.0       2      0   \n",
       "1013355  NyPaks2v8GkcWVsCXctpKA  G8r_HHphWNWfRN0LgVwrFA    1.0       0      0   \n",
       "98618    gpzgC3AwKY7cLkMsdSNA3w  2kuhZOrWcLYe_XePccr4lA    4.0       0      0   \n",
       "446665   Iu1akOzyVihFr7oj9JnK1Q  dvNNkfCyAjOq1HHltSRXRA    5.0       0      0   \n",
       "\n",
       "         cool                                               date  \\\n",
       "477697      2  We have been visiting the Devon Horse Show for...   \n",
       "757770      1  What an amazing, random Friday adventure. I re...   \n",
       "1013355     0  Last three items broke- they wouldn't return t...   \n",
       "98618       0  Delicious. We got Chicago style. Nice place. O...   \n",
       "446665      0  Great experience, Roman is the best, he went b...   \n",
       "\n",
       "                        text  \n",
       "477697   2019-05-30 14:18:56  \n",
       "757770   2019-06-21 23:14:42  \n",
       "1013355  2011-11-14 01:10:28  \n",
       "98618    2018-03-19 00:28:12  \n",
       "446665   2016-04-15 17:24:36  "
      ]
     },
     "execution_count": 121,
     "metadata": {},
     "output_type": "execute_result"
    }
   ],
   "source": [
    "yelp_df = pd.read_csv(data_dir + \"yelp_data.csv\", index_col=0)\n",
    "yelp_df.head()"
   ]
  },
  {
   "cell_type": "markdown",
   "metadata": {},
   "source": [
    "## Data Transformation\n",
    "Due to the size and time constraints from our local machines, we will perform the data transformation on a subset of the twitter data of 10,000 samples. However, the process will be the same for the entire dataset.\n",
    "\n",
    "Since we are treating each sequence of data as 'time series' data, the transformation process requires a few steps.\n",
    "- Clean the data of punctuation, numbers, urls, and html tags. We also removed stop words (words that are so widely used that they contain no useful information)\n",
    "- Create a large corpus of unique words found in the dataset.\n",
    "- Iterate through each word in each sequence and replace it with the index in the corpus. \n",
    "\n",
    "As an additional note, the `remove_stopwords` function also performs lemmatization. This means words like 'quiet', 'quietly', and 'quieter' are all set to 'quiet', their root form.\n",
    "\n",
    "#### Example\n",
    "As an example, assume our data is the following two rows:<br>\n",
    "```\n",
    "[\"Hey, I was curious about why you would even think that @Wendys?\",\n",
    "\"Just saw @Dune. I think it was pretty good. What about you?\"]\n",
    "```\n",
    "The first step would transform the data like so:<br>\n",
    "```\n",
    "[['hey', 'i', 'was', 'curious', 'about', 'why', 'you', 'would', 'even', 'think', 'that', 'wendys'],\n",
    " ['just', 'saw', 'dune', 'i', 'think', 'it', 'was', 'pretty', 'good', 'what', 'about', 'you']]\n",
    "```\n",
    "Then, we create a set of unique words:\n",
    "```\n",
    "['hey', 'i', 'was', 'curious', 'about', 'why', \n",
    " 'you', 'would', 'even', 'think', 'that', 'wendys',\n",
    "'just', 'saw', 'dune', 'it', 'was', 'pretty', \n",
    " 'good', 'what']\n",
    "```\n",
    "Last, we replace the transformed data with the indices of the words in the corpus, giving us our ordered sequence of data.\n",
    "```\n",
    "[[0, 1, 2, 3, 4, 5, 6, 7, 8, 9, 10, 11],\n",
    " [12, 13, 14, 1, 9, 15, 16, 17, 18, 19, 4, 6]]\n",
    "```\n"
   ]
  },
  {
   "cell_type": "code",
   "execution_count": 122,
   "metadata": {},
   "outputs": [
    {
     "name": "stderr",
     "output_type": "stream",
     "text": [
      "<>:30: SyntaxWarning: invalid escape sequence '\\W'\n",
      "<>:30: SyntaxWarning: invalid escape sequence '\\W'\n",
      "/tmp/ipykernel_5670/1477077293.py:30: SyntaxWarning: invalid escape sequence '\\W'\n",
      "  return re.split(\"\\W+\", text)\n"
     ]
    }
   ],
   "source": [
    "# Removes punctuation and numbers (by character) and returns as a single string\n",
    "def remove_punctuation(text):\n",
    "    return ''.join([char for char in text if (char not in string.punctuation) and (not char.isdigit())])\n",
    "\n",
    "# Remove URLs from a string\n",
    "def remove_urls(text, replacement_text=\"\"):\n",
    "    url_pattern = re.compile(r'https?://\\S+|www\\.\\S+')\n",
    "    return url_pattern.sub(replacement_text, text)\n",
    "\n",
    "# Remove HTML from a string\n",
    "class MLStripper(HTMLParser):\n",
    "    def __init__(self):\n",
    "        super().__init__()\n",
    "        self.reset()\n",
    "        self.strict = False\n",
    "        self.convert_charrefs= True\n",
    "        self.text = StringIO()\n",
    "    def handle_data(self, d):\n",
    "        self.text.write(d)\n",
    "    def get_data(self):\n",
    "        return self.text.getvalue()\n",
    "def strip_tags(html):\n",
    "    s = MLStripper()\n",
    "    s.feed(html)\n",
    "    return s.get_data()\n",
    "\n",
    "# Splits the message on one or more non-word character\n",
    "# Returns as a list\n",
    "def tokenize(text):\n",
    "    return re.split(\"\\W+\", text)\n",
    "    \n",
    "# Define stopwords and remove them from the list\n",
    "# Also reduce words to the root word\n",
    "def remove_stopwords(text):\n",
    "    stopword_lst = stopwords.words('english')\n",
    "    stopword_lst.append(\"\")\n",
    "    ps = PorterStemmer()\n",
    "    words = [ps.stem(word) for word in text if word not in stopword_lst]\n",
    "    return words"
   ]
  },
  {
   "cell_type": "code",
   "execution_count": 123,
   "metadata": {},
   "outputs": [
    {
     "name": "stderr",
     "output_type": "stream",
     "text": []
    },
    {
     "name": "stderr",
     "output_type": "stream",
     "text": [
      "100%|██████████| 10000/10000 [00:01<00:00, 5746.80it/s]\n"
     ]
    }
   ],
   "source": [
    "# Apply cleaning functions to the data\n",
    "twitter_subset = twitter_df.sample(10000)\n",
    "clean_data = twitter_subset['text'].progress_apply(lambda x: remove_stopwords(   # Remove stopwords and shorten to root words\n",
    "                                                tokenize(           # Split message into a list\n",
    "                                                remove_punctuation( # Remove punctuation and numbers\n",
    "                                                remove_urls(        # Remove URLs\n",
    "                                                strip_tags(x)       # Remove HTML tags\n",
    "                                                )).lower())))"
   ]
  },
  {
   "cell_type": "code",
   "execution_count": 124,
   "metadata": {},
   "outputs": [
    {
     "name": "stderr",
     "output_type": "stream",
     "text": [
      "100%|█████████▉| 9982/10000 [00:03<00:00, 1806.62it/s] "
     ]
    }
   ],
   "source": [
    "# Turn each mesage into a sequence of unique indices\n",
    "#   that correspond to a given word\n",
    "loop = tqdm(total=len(clean_data), position=0, leave=False)\n",
    "\n",
    "words = []\n",
    "for message in clean_data:\n",
    "    words = list(set(words + message))\n",
    "    loop.update()"
   ]
  },
  {
   "cell_type": "code",
   "execution_count": 125,
   "metadata": {},
   "outputs": [],
   "source": [
    "seq_data = [[words.index(word) for word in message] for message in clean_data]"
   ]
  },
  {
   "cell_type": "code",
   "execution_count": 126,
   "metadata": {},
   "outputs": [
    {
     "name": "stdout",
     "output_type": "stream",
     "text": [
      "Before/After Transformation:\n",
      "@Maggie_too No. I'm dreaming of home.....  Come hell or high water, I will get there!\n",
      "['maggietoo', 'im', 'dream', 'home', 'come', 'hell', 'high', 'water', 'get']\n",
      "[10451, 14514, 12556, 12680, 12565, 3374, 14674, 376, 2876]\n"
     ]
    }
   ],
   "source": [
    "i = np.random.randint(low=0, high=len(seq_data))\n",
    "print(\"Before/After Transformation:\")\n",
    "print(twitter_subset.iloc[i]['text'])\n",
    "print(f\"{clean_data.iloc[i]}\")\n",
    "print(f\"{seq_data[i]}\")"
   ]
  },
  {
   "cell_type": "markdown",
   "metadata": {},
   "source": [
    "## Get Experimental Dataset"
   ]
  },
  {
   "cell_type": "code",
   "execution_count": 127,
   "metadata": {},
   "outputs": [],
   "source": [
    "twitter_subset['cleaned_data'] = seq_data\n",
    "twitter_subset = twitter_subset.reset_index()\n",
    "twitter_subset = twitter_subset.drop(columns=['text', 'flag', 'index'])"
   ]
  },
  {
   "cell_type": "code",
   "execution_count": 130,
   "metadata": {},
   "outputs": [],
   "source": [
    "to_dump = {}\n",
    "to_dump['data'] = twitter_subset\n",
    "to_dump['dictionary'] = words\n",
    "\n",
    "# dump\n",
    "with open(\"small_data.pkl\", \"wb\") as f:\n",
    "    pickle.dump(to_dump, f)"
   ]
  },
  {
   "cell_type": "markdown",
   "metadata": {},
   "source": [
    "## Feature Analysis\n",
    "Due to the simple nature of our dataset, the only features that are required to perform the base analysis is the text and target class. However, with the Yelp dataset we can potentially do some deeper analyses. For example, we can create a model specific to one business or reviewer and see if we can be more accurate with our predicions. \n",
    "\n",
    "Due to the sources of our datasets, there were no missing values and thus no need for imputation. As all of our targets are classifciation, there is no need for anything like normalization of our data. Therefore, feature engineering starts and ends with the transformation of the data.\n"
   ]
  },
  {
   "cell_type": "markdown",
   "metadata": {},
   "source": [
    "## Data Visualizations and Analysis\n",
    "The distribution of words used should follow the Zipf distribution, even with a smaller lexicon of keywords that exclude things such as particles. See this paper for a Zipf distribution on a X (formerly known as twitter) dataset: https://www.researchgate.net/figure/Zipf-distribution-of-Twitter-keywords-at-different-spatial-levels_fig1_311857596\n",
    "\n",
    "One thing we expect to see is a binomial distribution heavily weighted to the negative sentiment for a good/bad sentiment analysis (most people on X (formerly known as twitter) are negative).  \n",
    "If we have pairs of either/or states such as a good/bad sentiment or a funny/serious sentiment we can make predictions on a correlation matrix.  Some visualiztions include identifying keywords and creating a heatmap of the intensity with which they correspond to our hidden states.  Other visualiztions could include lists of words or sentence fragements that correspond the most to certain sentiments"
   ]
  },
  {
   "cell_type": "code",
   "execution_count": null,
   "metadata": {},
   "outputs": [
    {
     "data": {
      "image/png": "[encoded data removed]",
      "text/plain": [
       "<Figure size 640x480 with 1 Axes>"
      ]
     },
     "metadata": {},
     "output_type": "display_data"
    }
   ],
   "source": [
    "combined = [x for idx in seq_data for x in idx]\n",
    "plt.hist(combined, bins=100)\n",
    "plt.xlabel('Word Indices')\n",
    "plt.ylabel('Word Count')\n",
    "plt.title('Distribution of Data')\n",
    "plt.show()"
   ]
  },
  {
   "cell_type": "code",
   "execution_count": null,
   "metadata": {},
   "outputs": [
    {
     "data": {
      "image/png": "[encoded data removed]",
      "text/plain": [
       "<Figure size 640x480 with 1 Axes>"
      ]
     },
     "metadata": {},
     "output_type": "display_data"
    },
    {
     "data": {
      "text/plain": [
       "''"
      ]
     },
     "execution_count": 52,
     "metadata": {},
     "output_type": "execute_result"
    }
   ],
   "source": [
    "unq, counts = np.unique(combined, return_counts=True)\n",
    "plt.plot(np.sort(counts)[::-1])\n",
    "plt.xlim([0,100])\n",
    "plt.show()"
   ]
  },
  {
   "cell_type": "markdown",
   "metadata": {},
   "source": [
    "This does not seem to follow the Zipf distribution as described above. This will take more analysis to ensure the transformation of our data is correct."
   ]
  },
  {
   "cell_type": "code",
   "execution_count": null,
   "metadata": {},
   "outputs": [
    {
     "data": {
      "image/png": "[encoded data removed]",
      "text/plain": [
       "<Figure size 640x480 with 1 Axes>"
      ]
     },
     "metadata": {},
     "output_type": "display_data"
    }
   ],
   "source": [
    "# plot length of sequences\n",
    "lens = np.array([len(msg) for msg in seq_data])\n",
    "plt.hist(lens, bins=25)\n",
    "plt.xlabel(\"Length of Text\")\n",
    "plt.ylabel(\"Count\")\n",
    "plt.title(\"Distribution of Sequence Length\")\n",
    "plt.show()"
   ]
  },
  {
   "cell_type": "code",
   "execution_count": null,
   "metadata": {},
   "outputs": [
    {
     "data": {
      "image/png": "[encoded data removed]",
      "text/plain": [
       "<Figure size 1200x800 with 2 Axes>"
      ]
     },
     "metadata": {},
     "output_type": "display_data"
    }
   ],
   "source": [
    "# get a mask for negative/positive sentiment\n",
    "mask_0 = (twitter_subset['target'] == 0).tolist()\n",
    "mask_1 = (twitter_subset['target'] == 4).tolist()\n",
    "\n",
    "# plot positive vs length\n",
    "plt.figure(figsize=(12,8))\n",
    "plt.subplot(121)\n",
    "plt.hist(lens[mask_0], bins=20)\n",
    "plt.xlabel(\"Length of Text\")\n",
    "plt.ylabel(\"Count\")\n",
    "plt.title(\"Distribution of Sequence Length (Negative)\")\n",
    "\n",
    "plt.subplot(122)\n",
    "plt.hist(lens[mask_1], bins=20)\n",
    "plt.xlabel(\"Length of Text\")\n",
    "plt.ylabel(\"Count\")\n",
    "plt.title(\"Distribution of Sequence Length (Positive)\")\n",
    "\n",
    "plt.show()"
   ]
  },
  {
   "cell_type": "markdown",
   "metadata": {},
   "source": [
    "We see above that there is an outlier at length > 100. Removing it we can get a better look at how the distributions compare."
   ]
  },
  {
   "cell_type": "code",
   "execution_count": null,
   "metadata": {},
   "outputs": [
    {
     "data": {
      "image/png": "[encoded data removed]",
      "text/plain": [
       "<Figure size 640x480 with 1 Axes>"
      ]
     },
     "metadata": {},
     "output_type": "display_data"
    }
   ],
   "source": [
    "lens_out = np.delete(lens[mask_1], np.where(lens[mask_1]==max(lens)))\n",
    "\n",
    "# plot positive vs length\n",
    "plt.hist(lens[mask_0], bins=20, alpha=0.7, label=\"Negative\")\n",
    "plt.xlabel(\"Length of Text\")\n",
    "plt.ylabel(\"Count\")\n",
    "plt.ylim(0, 1000)\n",
    "\n",
    "# plt.subplot(122)\n",
    "plt.hist(lens_out, bins=20, alpha=0.7, label=\"Positive\")\n",
    "plt.ylim(0, 1000)\n",
    "plt.xlabel(\"Length of Text\")\n",
    "plt.ylabel(\"Count\")\n",
    "\n",
    "plt.title(\"Distribution with Outlier Removed\")\n",
    "plt.legend()\n",
    "plt.show()"
   ]
  },
  {
   "cell_type": "markdown",
   "metadata": {},
   "source": [
    "As the distributions seem similar, we can safely assume that tweet length has no correlation with sentiment."
   ]
  },
  {
   "cell_type": "markdown",
   "metadata": {},
   "source": [
    "Next, we look at how often certain words appear in negative vs positive text."
   ]
  },
  {
   "cell_type": "code",
   "execution_count": null,
   "metadata": {},
   "outputs": [
    {
     "name": "stdout",
     "output_type": "stream",
     "text": [
      "Highest Occuring Negative Words\n",
      "    im\n",
      "    go\n",
      "    get\n",
      "    work\n",
      "    miss\n",
      "\n",
      "Highest Occuring Positive Words\n",
      "    im\n",
      "    love\n",
      "    good\n",
      "    go\n",
      "    day\n"
     ]
    }
   ],
   "source": [
    "seq_neg, seq_pos = list(compress(seq_data, mask_0)), list(compress(seq_data, mask_1))\n",
    "com_neg, com_pos = [x for idx in seq_neg for x in idx], [x for idx in seq_pos for x in idx]\n",
    "\n",
    "# get unique and counts\n",
    "neg_uq, nucnt = np.unique(com_neg, return_counts=True)\n",
    "pos_uq, pucnt = np.unique(com_pos, return_counts=True)\n",
    "\n",
    "neg_uq, nucnt, pos_uq, pucnt = neg_uq[1:], nucnt[1:], pos_uq[1:], pucnt[1:]\n",
    "\n",
    "# sort and get top words\n",
    "n_idx = np.argsort(nucnt)[::-1]\n",
    "p_idx = np.argsort(pucnt)[::-1]\n",
    "\n",
    "print(\"Highest Occuring Negative Words\")\n",
    "for w in neg_uq[n_idx][:5]:\n",
    "    print(\"   \",words[w])\n",
    "print()\n",
    "\n",
    "print(\"Highest Occuring Positive Words\")\n",
    "for w in pos_uq[p_idx][:5]:\n",
    "    print(\"   \", words[w])\n",
    "\n",
    "\n",
    "plot_w = [3539, 6275, 4406, 14354, 5184]\n"
   ]
  },
  {
   "cell_type": "code",
   "execution_count": null,
   "metadata": {},
   "outputs": [
    {
     "data": {
      "image/png": "[encoded data removed]",
      "text/plain": [
       "<Figure size 640x480 with 1 Axes>"
      ]
     },
     "metadata": {},
     "output_type": "display_data"
    },
    {
     "ename": "ValueError",
     "evalue": "can only convert an array of size 1 to a Python scalar",
     "output_type": "error",
     "traceback": [
      "\u001b[0;31m---------------------------------------------------------------------------\u001b[0m",
      "\u001b[0;31mValueError\u001b[0m                                Traceback (most recent call last)",
      "Cell \u001b[0;32mIn[15], line 3\u001b[0m\n\u001b[1;32m      1\u001b[0m \u001b[38;5;28;01mfor\u001b[39;00m word \u001b[38;5;129;01min\u001b[39;00m plot_w:\n\u001b[1;32m      2\u001b[0m     text_w \u001b[38;5;241m=\u001b[39m words[word]\n\u001b[0;32m----> 3\u001b[0m     neg_count \u001b[38;5;241m=\u001b[39m \u001b[43mnucnt\u001b[49m\u001b[43m[\u001b[49m\u001b[43mnp\u001b[49m\u001b[38;5;241;43m.\u001b[39;49m\u001b[43mwhere\u001b[49m\u001b[43m(\u001b[49m\u001b[43mneg_uq\u001b[49m\u001b[38;5;241;43m==\u001b[39;49m\u001b[43mword\u001b[49m\u001b[43m)\u001b[49m\u001b[43m]\u001b[49m\u001b[38;5;241;43m.\u001b[39;49m\u001b[43mitem\u001b[49m\u001b[43m(\u001b[49m\u001b[43m)\u001b[49m\n\u001b[1;32m      4\u001b[0m     pos_count \u001b[38;5;241m=\u001b[39m pucnt[np\u001b[38;5;241m.\u001b[39mwhere(pos_uq\u001b[38;5;241m==\u001b[39mword)]\u001b[38;5;241m.\u001b[39mitem()\n\u001b[1;32m      6\u001b[0m     plt\u001b[38;5;241m.\u001b[39mbar([\u001b[38;5;241m0\u001b[39m, \u001b[38;5;241m1\u001b[39m], [neg_count, pos_count])\n",
      "\u001b[0;31mValueError\u001b[0m: can only convert an array of size 1 to a Python scalar"
     ]
    },
    {
     "name": "stderr",
     "output_type": "stream",
     "text": [
      "100%|██████████| 10000/10000 [00:18<00:00, 1793.52it/s]"
     ]
    }
   ],
   "source": [
    "for word in plot_w:\n",
    "    text_w = words[word]\n",
    "    neg_count = nucnt[np.where(neg_uq==word)].item()\n",
    "    pos_count = pucnt[np.where(pos_uq==word)].item()\n",
    "\n",
    "    plt.bar([0, 1], [neg_count, pos_count])\n",
    "    plt.title(f\"Occurences of '{text_w}' in Negative/Postive Text\")\n",
    "    plt.xticks(ticks=[0,1], labels=[\"Negative\", \"Positive\"])\n",
    "    plt.ylabel(\"Count\")\n",
    "    plt.show()"
   ]
  },
  {
   "cell_type": "markdown",
   "metadata": {},
   "source": [
    "We see above that there are some words, like 'i'm', that are frequently used in both negative and positive statements. However, there are also plenty of words that fall mainly into one or the other. Thus we can reasonably and safely assume that there is a correlation between certain words and the sentiment. Going ahead with this assumption will give us confidence that we can achieve significant results."
   ]
  },
  {
   "cell_type": "markdown",
   "metadata": {},
   "source": [
    "## Conclusions\n",
    "Our initial idea was to use models like HMM and Kalman Filters to estimate the motive behind written casual text, specifically the emotion the author intended to convey. However, due to the difficulty of determining an appropriate way to measure success, and after exploring our data, that goal is difficult to achieve in full. Instead, these datasets will allow use to explore how an HMM would instead interpret the hidden states that drive these sequences of text. Unfortunately, this is more of an exploratory goal.\n",
    "\n",
    "In order to utilize more accessible measures of success, the HMM could be trained on labeled data to classify text into predefined sentiment categories. We could then anaylze the trained model and see if its parameters could give us insight to the intent behind the text."
   ]
  }
 ],
 "metadata": {
  "kernelspec": {
   "display_name": "acme",
   "language": "python",
   "name": "python3"
  },
  "language_info": {
   "codemirror_mode": {
    "name": "ipython",
    "version": 3
   },
   "file_extension": ".py",
   "mimetype": "text/x-python",
   "name": "python",
   "nbconvert_exporter": "python",
   "pygments_lexer": "ipython3",
   "version": "3.12.1"
  },
  "orig_nbformat": 4
 },
 "nbformat": 4,
 "nbformat_minor": 2
}
