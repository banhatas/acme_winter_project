{
 "cells": [
  {
   "cell_type": "code",
   "execution_count": 1,
   "metadata": {},
   "outputs": [],
   "source": [
    "import HMM\n",
    "import hmmlearn as hmm\n",
    "import numpy as np"
   ]
  },
  {
   "cell_type": "markdown",
   "metadata": {},
   "source": []
  },
  {
   "cell_type": "code",
   "execution_count": 3,
   "metadata": {},
   "outputs": [
    {
     "name": "stdout",
     "output_type": "stream",
     "text": [
      "[list([15109, 6092, 8053, 14732, 7414, 15264])\n",
      " list([13727, 10208, 1223, 12364, 760, 6139, 7414, 10208, 12019])\n",
      " list([7528, 2277, 2689, 5637]) ...\n",
      " list([7590, 5174, 15558, 734, 3338, 9831, 866, 866])\n",
      " list([6095, 855, 4498, 13438, 10202])\n",
      " list([7942, 8370, 4502, 11853, 14514, 10850, 14514, 7995, 7359, 11788])]\n"
     ]
    }
   ],
   "source": [
    "data = HMM.load_object('small_data.pkl')\n",
    "obs = np.array(data['data']['cleaned_data'].values)\n",
    "labels = data['data']['target'].values\n",
    "symbols = np.arange(len(data['dictionary']))\n",
    "print(obs)\n",
    "train = int(2*len(obs)//3)\n",
    "\n",
    "# setup the hmm params\n",
    "model = HMM.SentimentModel(symbols)\n",
    "model.fit(obs[train:], labels)\n",
    "print(model.predict(obs[:train]))\n"
   ]
  },
  {
   "cell_type": "code",
   "execution_count": 4,
   "metadata": {},
   "outputs": [
    {
     "data": {
      "text/plain": [
       "0.75"
      ]
     },
     "execution_count": 4,
     "metadata": {},
     "output_type": "execute_result"
    }
   ],
   "source": [
    "a = np.array([0, 1, 1, 0])\n",
    "b = np.array([1, 1, 1, 0])\n",
    "np.mean(a == b)"
   ]
  }
 ],
 "metadata": {
  "kernelspec": {
   "display_name": "base",
   "language": "python",
   "name": "python3"
  },
  "language_info": {
   "codemirror_mode": {
    "name": "ipython",
    "version": 3
   },
   "file_extension": ".py",
   "mimetype": "text/x-python",
   "name": "python",
   "nbconvert_exporter": "python",
   "pygments_lexer": "ipython3",
   "version": "3.12.1"
  }
 },
 "nbformat": 4,
 "nbformat_minor": 2
}
