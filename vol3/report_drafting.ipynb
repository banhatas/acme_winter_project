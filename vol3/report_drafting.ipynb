{
 "cells": [
  {
   "cell_type": "markdown",
   "metadata": {},
   "source": [
    "<font color='red'><h3>ACHTUNG!</h3></font> \n",
    "<font color='red'>This will not be what the final report will be written on. The final report link is <a href=\"https://www.overleaf.com/8411579217vymvmycnszcx#155c30\">here</a>.</font>"
   ]
  },
  {
   "cell_type": "markdown",
   "metadata": {},
   "source": [
    "# Sentiment Analysis of Casual Text"
   ]
  },
  {
   "cell_type": "markdown",
   "metadata": {},
   "source": [
    "## Abstract\n",
    "<font color='red'>TODO:</font> Write this"
   ]
  },
  {
   "cell_type": "markdown",
   "metadata": {},
   "source": [
    "## Background/Motivation\n",
    "<font color='red'>TODO:</font> Write this"
   ]
  },
  {
   "cell_type": "markdown",
   "metadata": {},
   "source": [
    "## Modeling\n",
    "<font color='red'>TODO:</font> Write this"
   ]
  },
  {
   "cell_type": "markdown",
   "metadata": {},
   "source": [
    "## Results\n",
    "<font color='red'>TODO:</font> Write this"
   ]
  },
  {
   "cell_type": "markdown",
   "metadata": {},
   "source": [
    "## Analysis/Conclusions\n",
    "<font color='red'>TODO:</font> Write this"
   ]
  }
 ],
 "metadata": {
  "language_info": {
   "name": "python"
  }
 },
 "nbformat": 4,
 "nbformat_minor": 2
}
