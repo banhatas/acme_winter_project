{
 "cells": [
  {
   "cell_type": "code",
   "execution_count": 69,
   "metadata": {},
   "outputs": [],
   "source": [
    "import os\n",
    "import time\n",
    "import pickle\n",
    "import warnings\n",
    "import numpy as np\n",
    "import pandas as pd\n",
    "from tqdm import tqdm   \n",
    "import data_cleaner\n",
    "\n",
    "import matplotlib.pyplot as plt\n",
    "\n",
    "from hmmlearn import hmm\n",
    "from sklearn.cluster import DBSCAN\n",
    "from sklearn.mixture import GaussianMixture\n",
    "\n",
    "import umap"
   ]
  },
  {
   "cell_type": "code",
   "execution_count": 70,
   "metadata": {},
   "outputs": [],
   "source": [
    "with open('twitter_model.pkl', 'rb') as f:\n",
    "    model = pickle.load(f)"
   ]
  },
  {
   "cell_type": "markdown",
   "metadata": {},
   "source": [
    "# Analysis of Words to State"
   ]
  },
  {
   "cell_type": "code",
   "execution_count": 71,
   "metadata": {},
   "outputs": [
    {
     "name": "stdout",
     "output_type": "stream",
     "text": [
      "Cluster 0: 0.047 0.040\n",
      "Cluster 1: 0.278 0.203\n",
      "Cluster 2: 0.067 0.044\n",
      "Cluster 3: 0.045 0.031\n",
      "Cluster 4: 0.078 0.057\n",
      "Cluster 5: 0.347 0.523\n",
      "Cluster 6: 0.029 0.018\n",
      "Cluster 7: 0.029 0.026\n",
      "Cluster 8: 0.023 0.021\n",
      "Cluster 9: 0.056 0.037\n"
     ]
    }
   ],
   "source": [
    "B = model.emissionprob_.T\n",
    "for i in range(10):\n",
    "    print(f\"Cluster {i}: {B[i][0]:.3f} {B[i][1]:.3f}\")"
   ]
  },
  {
   "cell_type": "markdown",
   "metadata": {},
   "source": [
    "From the above we see that <b>Cluster 1</b> will most likely be in <b>State 0</b>, while <b>Cluster 5</b> will most likely be in <b>State 1</b>. Taking a closer look at these clusters we find the following:"
   ]
  },
  {
   "cell_type": "code",
   "execution_count": 72,
   "metadata": {},
   "outputs": [],
   "source": [
    "with open(\"original_twitter_data.pkl\", \"rb\") as f:\n",
    "    dat = pickle.load(f)\n",
    "\n",
    "with open(\"twitter_model_data.pkl\", \"rb\") as f:\n",
    "    mod_dat = pickle.load(f)"
   ]
  },
  {
   "cell_type": "code",
   "execution_count": 73,
   "metadata": {},
   "outputs": [
    {
     "data": {
      "text/html": [
       "<div>\n",
       "<style scoped>\n",
       "    .dataframe tbody tr th:only-of-type {\n",
       "        vertical-align: middle;\n",
       "    }\n",
       "\n",
       "    .dataframe tbody tr th {\n",
       "        vertical-align: top;\n",
       "    }\n",
       "\n",
       "    .dataframe thead th {\n",
       "        text-align: right;\n",
       "    }\n",
       "</style>\n",
       "<table border=\"1\" class=\"dataframe\">\n",
       "  <thead>\n",
       "    <tr style=\"text-align: right;\">\n",
       "      <th></th>\n",
       "      <th>target</th>\n",
       "      <th>id</th>\n",
       "      <th>date</th>\n",
       "      <th>flag</th>\n",
       "      <th>user</th>\n",
       "      <th>text</th>\n",
       "      <th>cleaned</th>\n",
       "    </tr>\n",
       "  </thead>\n",
       "  <tbody>\n",
       "    <tr>\n",
       "      <th>36796</th>\n",
       "      <td>0</td>\n",
       "      <td>1565880141</td>\n",
       "      <td>Mon Apr 20 07:45:16 PDT 2009</td>\n",
       "      <td>NO_QUERY</td>\n",
       "      <td>colombo1971</td>\n",
       "      <td>One kid better.  One still sick.  Poor little ...</td>\n",
       "      <td>[one, kid, better, one, still, sick, poor, lit...</td>\n",
       "    </tr>\n",
       "    <tr>\n",
       "      <th>220682</th>\n",
       "      <td>0</td>\n",
       "      <td>1976680246</td>\n",
       "      <td>Sat May 30 18:45:19 PDT 2009</td>\n",
       "      <td>NO_QUERY</td>\n",
       "      <td>kiddiescorner</td>\n",
       "      <td>Omg what the heck is up with twitter tonight i...</td>\n",
       "      <td>[omg, heck, twitter, tonight, im, miss, thepar...</td>\n",
       "    </tr>\n",
       "    <tr>\n",
       "      <th>731538</th>\n",
       "      <td>0</td>\n",
       "      <td>2263848932</td>\n",
       "      <td>Sun Jun 21 01:59:50 PDT 2009</td>\n",
       "      <td>NO_QUERY</td>\n",
       "      <td>vicbecpai</td>\n",
       "      <td>Happy fathers day shame i dont feel to well ha...</td>\n",
       "      <td>[happi, father, day, shame, dont, feel, well, ...</td>\n",
       "    </tr>\n",
       "    <tr>\n",
       "      <th>891589</th>\n",
       "      <td>4</td>\n",
       "      <td>1690871703</td>\n",
       "      <td>Sun May 03 16:34:11 PDT 2009</td>\n",
       "      <td>NO_QUERY</td>\n",
       "      <td>kinseyymiller</td>\n",
       "      <td>i almost got killed today! and i was on local ...</td>\n",
       "      <td>[almost, got, kill, today, local, tv, mr, saal...</td>\n",
       "    </tr>\n",
       "    <tr>\n",
       "      <th>645381</th>\n",
       "      <td>0</td>\n",
       "      <td>2236263306</td>\n",
       "      <td>Fri Jun 19 03:15:26 PDT 2009</td>\n",
       "      <td>NO_QUERY</td>\n",
       "      <td>myloismylife</td>\n",
       "      <td>Officially appointed as CL &amp;amp; given monthly...</td>\n",
       "      <td>[offici, appoint, cl, given, monthli, allow, s...</td>\n",
       "    </tr>\n",
       "  </tbody>\n",
       "</table>\n",
       "</div>"
      ],
      "text/plain": [
       "        target          id                          date      flag  \\\n",
       "36796        0  1565880141  Mon Apr 20 07:45:16 PDT 2009  NO_QUERY   \n",
       "220682       0  1976680246  Sat May 30 18:45:19 PDT 2009  NO_QUERY   \n",
       "731538       0  2263848932  Sun Jun 21 01:59:50 PDT 2009  NO_QUERY   \n",
       "891589       4  1690871703  Sun May 03 16:34:11 PDT 2009  NO_QUERY   \n",
       "645381       0  2236263306  Fri Jun 19 03:15:26 PDT 2009  NO_QUERY   \n",
       "\n",
       "                 user                                               text  \\\n",
       "36796     colombo1971  One kid better.  One still sick.  Poor little ...   \n",
       "220682  kiddiescorner  Omg what the heck is up with twitter tonight i...   \n",
       "731538      vicbecpai  Happy fathers day shame i dont feel to well ha...   \n",
       "891589  kinseyymiller  i almost got killed today! and i was on local ...   \n",
       "645381   myloismylife  Officially appointed as CL &amp; given monthly...   \n",
       "\n",
       "                                                  cleaned  \n",
       "36796   [one, kid, better, one, still, sick, poor, lit...  \n",
       "220682  [omg, heck, twitter, tonight, im, miss, thepar...  \n",
       "731538  [happi, father, day, shame, dont, feel, well, ...  \n",
       "891589  [almost, got, kill, today, local, tv, mr, saal...  \n",
       "645381  [offici, appoint, cl, given, monthli, allow, s...  "
      ]
     },
     "execution_count": 73,
     "metadata": {},
     "output_type": "execute_result"
    }
   ],
   "source": [
    "dat.head()"
   ]
  },
  {
   "cell_type": "code",
   "execution_count": 74,
   "metadata": {},
   "outputs": [
    {
     "data": {
      "text/html": [
       "<div>\n",
       "<style scoped>\n",
       "    .dataframe tbody tr th:only-of-type {\n",
       "        vertical-align: middle;\n",
       "    }\n",
       "\n",
       "    .dataframe tbody tr th {\n",
       "        vertical-align: top;\n",
       "    }\n",
       "\n",
       "    .dataframe thead th {\n",
       "        text-align: right;\n",
       "    }\n",
       "</style>\n",
       "<table border=\"1\" class=\"dataframe\">\n",
       "  <thead>\n",
       "    <tr style=\"text-align: right;\">\n",
       "      <th></th>\n",
       "      <th>text</th>\n",
       "      <th>target</th>\n",
       "      <th>hmm_data</th>\n",
       "    </tr>\n",
       "    <tr>\n",
       "      <th>original_index</th>\n",
       "      <th></th>\n",
       "      <th></th>\n",
       "      <th></th>\n",
       "    </tr>\n",
       "  </thead>\n",
       "  <tbody>\n",
       "    <tr>\n",
       "      <th>36796</th>\n",
       "      <td>[0, 5, 9, 0, 1, 1, 5, 1, 1]</td>\n",
       "      <td>0</td>\n",
       "      <td>[1, 0, 1, 0, 1, 0, 1, 0, 1]</td>\n",
       "    </tr>\n",
       "    <tr>\n",
       "      <th>220682</th>\n",
       "      <td>[9, 1, 5, 5, 1, 8, 1]</td>\n",
       "      <td>0</td>\n",
       "      <td>[1, 0, 1, 0, 1, 0, 1]</td>\n",
       "    </tr>\n",
       "    <tr>\n",
       "      <th>731538</th>\n",
       "      <td>[5, 5, 5, 5, 0, 5, 1, 9, 1, 4, 1]</td>\n",
       "      <td>0</td>\n",
       "      <td>[1, 0, 1, 0, 1, 0, 1, 0, 1, 0, 1]</td>\n",
       "    </tr>\n",
       "    <tr>\n",
       "      <th>891589</th>\n",
       "      <td>[4, 2, 1, 2, 2, 1, 1]</td>\n",
       "      <td>4</td>\n",
       "      <td>[1, 0, 1, 0, 1, 0, 1]</td>\n",
       "    </tr>\n",
       "    <tr>\n",
       "      <th>645381</th>\n",
       "      <td>[5, 7, 4, 1, 1, 0, 4, 1]</td>\n",
       "      <td>0</td>\n",
       "      <td>[1, 0, 1, 0, 1, 0, 1, 0]</td>\n",
       "    </tr>\n",
       "  </tbody>\n",
       "</table>\n",
       "</div>"
      ],
      "text/plain": [
       "                                             text  target  \\\n",
       "original_index                                              \n",
       "36796                 [0, 5, 9, 0, 1, 1, 5, 1, 1]       0   \n",
       "220682                      [9, 1, 5, 5, 1, 8, 1]       0   \n",
       "731538          [5, 5, 5, 5, 0, 5, 1, 9, 1, 4, 1]       0   \n",
       "891589                      [4, 2, 1, 2, 2, 1, 1]       4   \n",
       "645381                   [5, 7, 4, 1, 1, 0, 4, 1]       0   \n",
       "\n",
       "                                         hmm_data  \n",
       "original_index                                     \n",
       "36796                 [1, 0, 1, 0, 1, 0, 1, 0, 1]  \n",
       "220682                      [1, 0, 1, 0, 1, 0, 1]  \n",
       "731538          [1, 0, 1, 0, 1, 0, 1, 0, 1, 0, 1]  \n",
       "891589                      [1, 0, 1, 0, 1, 0, 1]  \n",
       "645381                   [1, 0, 1, 0, 1, 0, 1, 0]  "
      ]
     },
     "execution_count": 74,
     "metadata": {},
     "output_type": "execute_result"
    }
   ],
   "source": [
    "mod_dat.head()"
   ]
  },
  {
   "cell_type": "code",
   "execution_count": 75,
   "metadata": {},
   "outputs": [],
   "source": [
    "cluster_0 = list()\n",
    "cluster_5 = list()\n",
    "\n",
    "for i in range(len(mod_dat)):\n",
    "    row = mod_dat.iloc[i]\n",
    "    idx = row.name\n",
    "    text = row['text']\n",
    "\n",
    "    if len(text) < 1:\n",
    "        continue\n",
    "\n",
    "    og_text = dat.loc[idx]['cleaned']\n",
    "    for j, w in enumerate(text):\n",
    "        if w == 1:\n",
    "            try:\n",
    "                og_word = og_text[j]\n",
    "                cluster_0.append(og_word)\n",
    "            except:\n",
    "                continue\n",
    "        elif w == 5:\n",
    "            try:\n",
    "                og_word = og_text[j]\n",
    "                cluster_1.append(og_word)\n",
    "            except:\n",
    "                continue"
   ]
  },
  {
   "cell_type": "code",
   "execution_count": 76,
   "metadata": {},
   "outputs": [],
   "source": [
    "cluster_0, cluster_1 = np.array(cluster_0), np.array(cluster_1)"
   ]
  },
  {
   "cell_type": "code",
   "execution_count": 77,
   "metadata": {},
   "outputs": [
    {
     "name": "stdout",
     "output_type": "stream",
     "text": [
      "['im' 'work' 'realli' 'know' 'think' 'oh' 'well' 'new' 'much' 'still'\n",
      " 'that' 'last' 'would' 'great' 'didnt']\n"
     ]
    }
   ],
   "source": [
    "uq, counts = np.unique(cluster_0, return_counts=True)\n",
    "ordr = np.argsort(counts)[::-1]\n",
    "print(uq[ordr][:15])"
   ]
  },
  {
   "cell_type": "markdown",
   "metadata": {},
   "source": [
    "We see that the state predicted by the HMM given the words above is mostly correlated with negative sentiment. It is interesting that words like 'great' are in this list, but that could either be indicative of the model detecting some form of sarcasm or the model misclassifying 'great' as negative."
   ]
  },
  {
   "cell_type": "code",
   "execution_count": 79,
   "metadata": {},
   "outputs": [
    {
     "name": "stdout",
     "output_type": "stream",
     "text": [
      "['acmeuser' 'good' 'time' 'thank' 'feel' 'well' 'miss' 'u' 'think' 'one'\n",
      " 'know' 'that' 'much' 'haha' 'hey']\n"
     ]
    }
   ],
   "source": [
    "uq, counts = np.unique(cluster_1, return_counts=True)\n",
    "ordr = np.argsort(counts)[::-1]\n",
    "print(uq[ordr][:15])"
   ]
  },
  {
   "cell_type": "markdown",
   "metadata": {},
   "source": [
    "We see that the state predicted by the HMM given the words above is mostly correlated with negative positive. Again we see some misclassification as the word 'miss' is in this state with 'good', 'haha', and 'thank'. \n",
    "\n",
    "From the results above, we can see that our goal of interpretability is somewhat being met with our model. Due to the misclassifications above, I would hesitate to rely solely on these results without further work. However, the ability to look at what the HMM is predicting and be able to determine sentiment without using a neural network is a novel idea and from these results we seem to have a good foundation from which further work can build upon."
   ]
  }
 ],
 "metadata": {
  "kernelspec": {
   "display_name": "base",
   "language": "python",
   "name": "python3"
  },
  "language_info": {
   "codemirror_mode": {
    "name": "ipython",
    "version": 3
   },
   "file_extension": ".py",
   "mimetype": "text/x-python",
   "name": "python",
   "nbconvert_exporter": "python",
   "pygments_lexer": "ipython3",
   "version": "3.12.1"
  }
 },
 "nbformat": 4,
 "nbformat_minor": 2
}
